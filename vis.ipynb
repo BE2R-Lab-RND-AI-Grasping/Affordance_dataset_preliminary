{
 "cells": [
  {
   "cell_type": "code",
   "execution_count": null,
   "id": "24b8220f",
   "metadata": {},
   "outputs": [],
   "source": [
    "from pathlib import Path\n",
    "import open3d as o3d\n",
    "import numpy as np\n",
    "from utils import load_mesh, print_mesh_info"
   ]
  },
  {
   "cell_type": "code",
   "execution_count": null,
   "id": "e4f8b8c7",
   "metadata": {},
   "outputs": [],
   "source": [
    "# visualize the mesh with axis-aligned bounding box (red) and oriented bounding box (blue)\n",
    "\n",
    "# set the model directory\n",
    "model_dir = Path('./dataset/hammers/model_1/')\n",
    "initial_mesh_path = model_dir/\"object_convex_decomposition.obj\"\n",
    "mesh, info = load_mesh(initial_mesh_path, vis=True)\n",
    "print_mesh_info(info)"
   ]
  },
  {
   "cell_type": "code",
   "execution_count": null,
   "id": "8ec7342a",
   "metadata": {},
   "outputs": [],
   "source": [
    "# visualize the parts of the decomposition in random colors\n",
    "\n",
    "parts_file = list(model_dir.glob(\"object_part_*\"))\n",
    "parts = []\n",
    "for part_file in parts_file:\n",
    "    parts.append(o3d.io.read_triangle_mesh(part_file))\n",
    "new_mesh_vis = o3d.geometry.TriangleMesh()\n",
    "\n",
    "for part in parts:\n",
    "    vs = np.asarray(part.vertices)\n",
    "    fs = np.asarray(part.triangles)\n",
    "    # Create a TriangleMesh object\n",
    "    current_mesh_vis = o3d.geometry.TriangleMesh()\n",
    "    current_mesh_vis.vertices = o3d.utility.Vector3dVector(vs)\n",
    "    current_mesh_vis.triangles = o3d.utility.Vector3iVector(fs)\n",
    "    current_mesh_vis.paint_uniform_color(np.random.rand(3))\n",
    "    new_mesh_vis += current_mesh_vis\n",
    "\n",
    "o3d.visualization.draw_geometries([new_mesh_vis])"
   ]
  },
  {
   "cell_type": "code",
   "execution_count": null,
   "id": "f6f1735b",
   "metadata": {},
   "outputs": [],
   "source": [
    "# visualize the labeled point cloud\n",
    "\n",
    "pcd_labled_file = model_dir/\"point_cloud_labeled.ply\"\n",
    "pcd_labeld = o3d.io.read_point_cloud(pcd_labled_file)\n",
    "o3d.visualization.draw_geometries([pcd_labeld]) # for point cloud visualization\n",
    "# o3d.visualization.draw_geometries([pcd_labeld, mesh]) # for point cloud visualization with mesh"
   ]
  }
 ],
 "metadata": {
  "kernelspec": {
   "display_name": "dataset",
   "language": "python",
   "name": "python3"
  },
  "language_info": {
   "codemirror_mode": {
    "name": "ipython",
    "version": 3
   },
   "file_extension": ".py",
   "mimetype": "text/x-python",
   "name": "python",
   "nbconvert_exporter": "python",
   "pygments_lexer": "ipython3",
   "version": "3.10.17"
  }
 },
 "nbformat": 4,
 "nbformat_minor": 5
}
